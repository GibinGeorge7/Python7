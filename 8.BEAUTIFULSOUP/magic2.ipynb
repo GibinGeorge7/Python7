{
 "cells": [
  {
   "cell_type": "code",
   "execution_count": 3,
   "metadata": {},
   "outputs": [
    {
     "name": "stdout",
     "output_type": "stream",
     "text": [
      "₹ 1.35 Cr\n",
      "Amanora Park Town\n",
      "Amanora Park Town\n"
     ]
    }
   ],
   "source": [
    "import requests\n",
    "from bs4 import BeautifulSoup\n",
    "import sys,os,os.path\n",
    "os.environ['HTTP_PROXY']=\"http://10.32.100.241:8080\"\n",
    "os.environ['HTTPS_PROXY']=\"https://10.32.100.241:8080\"\n",
    "\n",
    "headers = {\n",
    "    'user-agent': 'Mozilla/5.0 (Macintosh; Intel Mac OS X 10_11_6) AppleWebKit/537.36 (KHTML, like Gecko) Chrome/53.0.2785.143 Safari/537.36'}\n",
    "\n",
    "url=\"https://www.magicbricks.com/property-for-sale/residential-real-estate?proptype=Multistorey-Apartment,Builder-Floor-Apartment,Penthouse,Studio-Apartment&Locality=Hadapsar&cityName=Pune\"\n",
    "r=requests.get(url,headers=headers,timeout=5)\n",
    "c=r.content\n",
    "soup=BeautifulSoup(c,\"html.parser\")\n",
    "#print(soup.prettify())\n",
    "all=soup.find_all(\"div\",{\"class\":\"flex relative clearfix m-srp-card__container\"})\n",
    "print(all[0].find(\"div\",{\"class\":\"m-srp-card__price\"}).text)\n",
    "try:\n",
    "    print(all[0].find(\"div\",{\"class\":\"m-srp-card__advertiser__name\"}).text)\n",
    "except:\n",
    "    print(\"None\")\n",
    "try:\n",
    "    print(all[0].find(\"div\",{\"class\":\"m-srp-card__advertiser__name\"}).text)\n",
    "except:\n",
    "    print(\"None\")"
   ]
  },
  {
   "cell_type": "code",
   "execution_count": null,
   "metadata": {},
   "outputs": [],
   "source": []
  }
 ],
 "metadata": {
  "kernelspec": {
   "display_name": "Python 3",
   "language": "python",
   "name": "python3"
  },
  "language_info": {
   "codemirror_mode": {
    "name": "ipython",
    "version": 3
   },
   "file_extension": ".py",
   "mimetype": "text/x-python",
   "name": "python",
   "nbconvert_exporter": "python",
   "pygments_lexer": "ipython3",
   "version": "3.7.0"
  }
 },
 "nbformat": 4,
 "nbformat_minor": 2
}
