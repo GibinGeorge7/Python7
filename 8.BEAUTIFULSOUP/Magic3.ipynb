{
 "cells": [
  {
   "cell_type": "code",
   "execution_count": 3,
   "metadata": {},
   "outputs": [
    {
     "data": {
      "text/plain": [
       "[]"
      ]
     },
     "execution_count": 3,
     "metadata": {},
     "output_type": "execute_result"
    }
   ],
   "source": [
    "import requests\n",
    "from bs4 import BeautifulSoup\n",
    "import sys,os,os.path\n",
    "os.environ['HTTP_PROXY']=\"http://10.32.100.241:8080\"\n",
    "os.environ['HTTPS_PROXY']=\"https://10.32.100.241:8080\"\n",
    "\n",
    "headers = {\n",
    "    'user-agent': 'Mozilla/5.0 (Macintosh; Intel Mac OS X 10_11_6) AppleWebKit/537.36 (KHTML, like Gecko) Chrome/53.0.2785.143 Safari/537.36'}\n",
    "\n",
    "url=\"https://www.magicbricks.com/mbsearch/propertySearch.html?propertyType_new=10002_10003_10021_10022&localityNameSEO=Hadapsar&localityName=Hadapsar&city=4378&mbTrackSrc=homeSearchForm&searchType=1&propertyType=10002,10003,10021,10022&category=S&groupstart=30&offset=0&maxOffset=324&attractiveIds=&page=2&ltrIds=\"\n",
    "r=requests.get(url,headers=headers,timeout=5)\n",
    "c=r.content\n",
    "soup=BeautifulSoup(c,\"html.parser\")\n",
    "#print(soup.prettify())\n",
    "all=soup.find_all(\"div\",{\"class\":\"SRHeading\"})\n",
    "all"
   ]
  },
  {
   "cell_type": "code",
   "execution_count": null,
   "metadata": {},
   "outputs": [],
   "source": []
  }
 ],
 "metadata": {
  "kernelspec": {
   "display_name": "Python 3",
   "language": "python",
   "name": "python3"
  },
  "language_info": {
   "codemirror_mode": {
    "name": "ipython",
    "version": 3
   },
   "file_extension": ".py",
   "mimetype": "text/x-python",
   "name": "python",
   "nbconvert_exporter": "python",
   "pygments_lexer": "ipython3",
   "version": "3.7.0"
  }
 },
 "nbformat": 4,
 "nbformat_minor": 2
}
